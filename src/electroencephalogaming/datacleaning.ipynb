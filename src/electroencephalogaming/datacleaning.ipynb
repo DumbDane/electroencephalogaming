{
 "cells": [
  {
   "cell_type": "code",
   "execution_count": null,
   "metadata": {},
   "outputs": [],
   "source": [
    "# For when we actually have data and want to line up psychopy data with eeg data?"
   ]
  }
 ],
 "metadata": {
  "language_info": {
   "name": "python"
  }
 },
 "nbformat": 4,
 "nbformat_minor": 2
}
