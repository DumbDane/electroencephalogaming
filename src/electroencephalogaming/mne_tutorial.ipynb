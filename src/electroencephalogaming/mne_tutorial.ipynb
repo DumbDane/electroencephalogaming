{
 "cells": [
  {
   "cell_type": "code",
   "execution_count": null,
   "metadata": {},
   "outputs": [],
   "source": [
    "# Adapted from mne tutorial by Laurits Dixen, PHD Student @ University of Copenhagen, 2024\n",
    "import mne\n",
    "\n",
    "import numpy as np\n",
    "import pandas as pd\n",
    "\n",
    "from pathlib import Path\n",
    "from importlib.resources import files\n",
    "\n",
    "from matplotlib.pyplot import savefig\n"
   ]
  },
  {
   "cell_type": "markdown",
   "metadata": {},
   "source": [
    "# Importing Data\n"
   ]
  },
  {
   "cell_type": "code",
   "execution_count": null,
   "metadata": {},
   "outputs": [],
   "source": [
    "DATADIR = Path.cwd() / \"data\"\n",
    "FIGDIR = Path.cwd() / \"figs\"\n",
    "print(DATADIR)\n",
    "RW = True"
   ]
  },
  {
   "cell_type": "code",
   "execution_count": null,
   "metadata": {},
   "outputs": [],
   "source": [
    "subject = \"laurids\"\n",
    "subject = \"chris\"\n",
    "session = \"4\"\n",
    "\n",
    "path = files('electroencephalogaming') / 'data' / 'raw' / subject / f's{session}.pq'\n",
    "df = pd.read_parquet(path).dropna().reset_index(drop=True)"
   ]
  },
  {
   "cell_type": "code",
   "execution_count": null,
   "metadata": {},
   "outputs": [],
   "source": [
    "# Only relevant for files made before update to trigger IDs\n",
    "df['markers'] = df['markers'].where(df['markers'] != 99, -1)\n",
    "df['direction'] = df['direction'].where(df['direction'] != 99, 4)\n",
    "\n",
    "\n",
    "df['markers'] = df['markers'].where(df['markers'] <= 4, 0) # Sets markers column to 0 between trials\n",
    "df['direction'] = df['direction'].where(df['markers'] == 3, 0) # Sets direction column to 0 whenever arrow is _not_ present on the screen\n",
    "\n",
    "overflow_beg = df[(df['markers'].shift() == 0) & (df['markers'] == 4)].index\n",
    "overflow_end = df[(df['markers'].shift() == 4) & (df['markers'] == 1)].index\n",
    "for i,j in zip(overflow_beg, overflow_end):\n",
    "    df.drop(range(i,j), inplace=True)\n",
    "\n",
    "df = df.reset_index(drop=True)"
   ]
  },
  {
   "cell_type": "code",
   "execution_count": null,
   "metadata": {},
   "outputs": [],
   "source": [
    "# eeg = data['y'][1:-4,:] # removing unnecessary channels\n",
    "eeg = df.drop(['timestamp', 'markers'], axis='columns').T.to_numpy()\n",
    "eeg"
   ]
  },
  {
   "cell_type": "code",
   "execution_count": null,
   "metadata": {},
   "outputs": [],
   "source": [
    "a = np.where(eeg[8,:] == eeg[8,:].max())[0][-1]\n",
    "b = np.where(eeg[8,:] > 4)[0][-1]\n",
    "a, b"
   ]
  },
  {
   "cell_type": "code",
   "execution_count": null,
   "metadata": {},
   "outputs": [],
   "source": [
    "SFREQ = 500 + 110 ## Constant ### SFREQ of Enobio + Frame rate"
   ]
  },
  {
   "cell_type": "code",
   "execution_count": null,
   "metadata": {},
   "outputs": [],
   "source": [
    "# Set first and last sample based on first and last trigger\n",
    "first_samp = np.where(eeg[8,:] != -1)[0][0]\n",
    "last_samp = np.where(eeg[8,:] > 0)[0][-1]\n",
    "\n",
    "first_conservative = first_samp - 1*SFREQ\n",
    "last_conservative = last_samp + 4*SFREQ\n",
    "\n",
    "# Crop data to first and last sample based on triggers\n",
    "print(f'First sample: {max(0, first_conservative)}, last sample: {last_conservative}')\n",
    "print('Cropping data based on triggers...')\n",
    "print(f'data cut from {eeg.shape[1]} to {last_samp-first_samp} samples')\n",
    "eeg = eeg[:,max(0, first_conservative):last_conservative]"
   ]
  },
  {
   "cell_type": "code",
   "execution_count": null,
   "metadata": {},
   "outputs": [],
   "source": [
    "# Channel positions\n",
    "CH_POSITIONS = {\n",
    "'CH 1' : 'C1',\n",
    "'CH 2' : 'C2',\n",
    "'CH 3' : 'C3',\n",
    "'CH 4' : 'C4',\n",
    "'CH 5' : 'FC1',\n",
    "'CH 6' : 'Cz',\n",
    "'CH 7' : 'FC2',\n",
    "'CH 8' : 'Pz',\n",
    "}"
   ]
  },
  {
   "cell_type": "code",
   "execution_count": null,
   "metadata": {},
   "outputs": [],
   "source": [
    "# Set channel names\n",
    "ch_names = [f'CH {i}' for i in range(1,len(CH_POSITIONS)+1)]\n",
    "\n",
    "# Exchange channel names with positions\n",
    "ch_positions = [CH_POSITIONS.get(ch,ch) for ch in ch_names] + ['trigger']\n",
    "ch_types = ['eeg' for _ in ch_names] + ['stim']\n",
    "\n",
    "print(ch_positions)\n",
    "print(ch_types)"
   ]
  },
  {
   "cell_type": "code",
   "execution_count": null,
   "metadata": {},
   "outputs": [],
   "source": [
    "# Create info mne object\n",
    "info = mne.create_info(ch_positions, SFREQ, ch_types)\n",
    "info['subject_info'] = {'his_id':subject+'_'+session} \n",
    "\n",
    "# Make raw object \n",
    "raw = mne.io.RawArray(eeg, info)\n",
    "raw"
   ]
  },
  {
   "cell_type": "code",
   "execution_count": null,
   "metadata": {},
   "outputs": [],
   "source": [
    "raw = raw.apply_function(lambda x: x*1e-6) # convert to microvolts"
   ]
  },
  {
   "cell_type": "code",
   "execution_count": null,
   "metadata": {},
   "outputs": [],
   "source": [
    "# Set channel positions\n",
    "montage = mne.channels.make_standard_montage('standard_1020')\n",
    "raw.set_montage(montage)"
   ]
  },
  {
   "cell_type": "code",
   "execution_count": null,
   "metadata": {},
   "outputs": [],
   "source": [
    "raw.plot_sensors(show_names=True);"
   ]
  },
  {
   "cell_type": "code",
   "execution_count": null,
   "metadata": {},
   "outputs": [],
   "source": [
    "# raw.plot(n_channels=8, start=0, duration=10, title='Raw EEG data')"
   ]
  },
  {
   "cell_type": "code",
   "execution_count": null,
   "metadata": {},
   "outputs": [],
   "source": [
    "if RW:\n",
    "    outfile = Path(DATADIR / \"scratch\" / subject / session / f\"{session}_raw.fif\")\n",
    "    outfile.parent.mkdir(parents=True, exist_ok=True)\n",
    "    raw.save(outfile, overwrite=True)"
   ]
  },
  {
   "cell_type": "markdown",
   "metadata": {},
   "source": [
    "# Preprocessing"
   ]
  },
  {
   "cell_type": "code",
   "execution_count": null,
   "metadata": {},
   "outputs": [],
   "source": [
    "if RW:\n",
    "    raw = mne.io.read_raw_fif(outfile)"
   ]
  },
  {
   "cell_type": "code",
   "execution_count": null,
   "metadata": {},
   "outputs": [],
   "source": [
    "raw.load_data()"
   ]
  },
  {
   "cell_type": "code",
   "execution_count": null,
   "metadata": {},
   "outputs": [],
   "source": [
    "high_pass = 0.1\n",
    "low_pass = 40\n",
    "\n",
    "filtered = raw.copy().filter(l_freq=high_pass, h_freq=low_pass).notch_filter(freqs=[17.8], trans_bandwidth=3)#.notch_filter(freqs=[17.45])"
   ]
  },
  {
   "cell_type": "code",
   "execution_count": null,
   "metadata": {},
   "outputs": [],
   "source": [
    "raw.compute_psd(fmax=55).plot();\n",
    "if RW:\n",
    "    outfile = Path(FIGDIR / subject / session / f\"psd_raw.png\")\n",
    "    outfile.parent.mkdir(parents=True, exist_ok=True)\n",
    "    savefig(outfile)"
   ]
  },
  {
   "cell_type": "code",
   "execution_count": null,
   "metadata": {},
   "outputs": [],
   "source": [
    "filtered.compute_psd(fmax=55).plot();\n",
    "if RW:\n",
    "    outfile = Path(FIGDIR / subject / session / f\"psd_filtered.png\")\n",
    "    outfile.parent.mkdir(parents=True, exist_ok=True)\n",
    "    savefig(outfile)"
   ]
  },
  {
   "cell_type": "code",
   "execution_count": null,
   "metadata": {},
   "outputs": [],
   "source": [
    "# filtered.plot(n_channels=8, start=0, duration=10, title='Filtered EEG data')"
   ]
  },
  {
   "cell_type": "code",
   "execution_count": null,
   "metadata": {},
   "outputs": [],
   "source": [
    "standard_ref = ['Cz']\n",
    "filtered.set_eeg_reference(ref_channels=standard_ref)"
   ]
  },
  {
   "cell_type": "markdown",
   "metadata": {},
   "source": [
    "# Marking bad channels"
   ]
  },
  {
   "cell_type": "code",
   "execution_count": null,
   "metadata": {},
   "outputs": [],
   "source": [
    "def ransac_bad_channels(raw):\n",
    "    tstep = configs['bad_tstep']\n",
    "    events = mne.make_fixed_length_events(raw, duration = tstep)\n",
    "    epochs = mne.Epochs(raw, events, tmin=0.0, tmax=tstep, baseline=None, preload=True)\n",
    "\n",
    "    ransac = Ransac(n_jobs=-1)\n",
    "    ransac = ransac.fit(epochs)\n",
    "\n",
    "    print('Bad channels detected: ')\n",
    "    print('\\n'.join(ransac.bad_chs_)) # list of bad channels\n",
    "    return ransac.bad_chs_"
   ]
  },
  {
   "cell_type": "code",
   "execution_count": null,
   "metadata": {},
   "outputs": [],
   "source": [
    "def run_ICA(raw):\n",
    "    \n",
    "    # filter high frequencies to avoid drift\n",
    "    raw = raw.filter(l_freq=1, h_freq=None)\n",
    "    \n",
    "    # Set parameters from configs\n",
    "    ica_variances_explained = configs['ica_variances_explained']\n",
    "    random_state = configs['random_state']\n",
    "    t_step = configs['segmentation_tstep']\n",
    "    \n",
    "    # Get subject info\n",
    "    s_info = raw.info['subject_info']['his_id']\n",
    "\n",
    "    # Get rejection threshold\n",
    "    events = mne.make_fixed_length_events(raw, duration=t_step)\n",
    "    epochs = mne.Epochs(raw, events, tmin=0, tmax=t_step, baseline=None, preload=True, reject=None, reject_by_annotation=True)\n",
    "    # threshold = get_rejection_threshold(epochs)\n",
    "    threshold = configs['reject_blink']\n",
    "    print(f'Rejection threshold: {threshold}')\n",
    "\n",
    "    # Drop bad epochs based on threshold\n",
    "    epochs.drop_bad(reject=threshold)\n",
    "\n",
    "    # Run ICA\n",
    "    ica = mne.preprocessing.ICA(n_components=ica_variances_explained,\n",
    "                                method=configs['ica_method'],\n",
    "                                random_state=random_state) \n",
    "    ica.fit(epochs, tstep=t_step)\n",
    "\n",
    "    # Plot components and sources\n",
    "    # Set title for plots\n",
    "    title = f'ICA - {s_info}'\n",
    "    components_fig = ica.plot_components(show=True, title=f'{title} - components')[0]\n",
    "    components_fig.savefig(exp_folder / 'plots' / f'{title} - components.png')\n",
    "\n",
    "    sources_fig = ica.plot_sources(raw, show=False, title=f'{title} - sources', show_scrollbars=True, start=200, stop=300)\n",
    "    sources_fig.savefig(exp_folder / 'plots' / f'{title} - sources.png')\n",
    "\n",
    "    # Manually select components to exclude\n",
    "    blink_component = input()\n",
    "    ica.exclude = [int(x) for x in blink_component.split(',')]\n",
    "\n",
    "    return ica"
   ]
  },
  {
   "cell_type": "code",
   "execution_count": null,
   "metadata": {},
   "outputs": [],
   "source": [
    " # Load bad channels \n",
    "# with open(badsfile, 'r') as f:\n",
    "#     bads = f.read().splitlines()\n",
    "# filtered.info['bads'] = bads\n",
    "\n",
    "# if configs['run_ICA']:\n",
    "#     if icafile.exists() and not configs['overwrite']:\n",
    "#         print(\"skipping ICA\")\n",
    "#     else:\n",
    "#         ica = run_ICA(filtered)\n",
    "#         ica.save(icafile, overwrite=True)\n",
    "\n",
    "# ica = mne.preprocessing.read_ica(icafile)\n",
    "# filtered = ica.apply(filtered)"
   ]
  },
  {
   "cell_type": "code",
   "execution_count": null,
   "metadata": {},
   "outputs": [],
   "source": [
    "if RW:\n",
    "    outfile = DATADIR / \"scratch\" / subject / session / f\"{session}_prep.fif\"\n",
    "    filtered.save(outfile, overwrite=True)"
   ]
  },
  {
   "cell_type": "markdown",
   "metadata": {},
   "source": [
    "# Segmentation"
   ]
  },
  {
   "cell_type": "code",
   "execution_count": null,
   "metadata": {},
   "outputs": [],
   "source": [
    "# Load raw data\n",
    "if RW:\n",
    "    infile = DATADIR / \"scratch\" / subject / session / f\"{session}_prep.fif\"\n",
    "    raw = mne.io.read_raw_fif(infile).copy()"
   ]
  },
  {
   "cell_type": "code",
   "execution_count": null,
   "metadata": {},
   "outputs": [],
   "source": [
    "events = mne.find_events(raw, stim_channel='trigger', verbose=True)\n",
    "events;"
   ]
  },
  {
   "cell_type": "code",
   "execution_count": null,
   "metadata": {},
   "outputs": [],
   "source": [
    "# Epoch\n",
    "tmin = 0.5\n",
    "tmax = 3.5\n",
    "\n",
    "epochs = mne.Epochs(raw,\n",
    "                    events,\n",
    "                    tmin=tmin,\n",
    "                    tmax=tmax,\n",
    "                    baseline=None,\n",
    "                    preload=True)"
   ]
  },
  {
   "cell_type": "code",
   "execution_count": null,
   "metadata": {},
   "outputs": [],
   "source": [
    "epochs.events[-1] # Drop tail?"
   ]
  },
  {
   "cell_type": "code",
   "execution_count": null,
   "metadata": {},
   "outputs": [],
   "source": [
    "tshift = -0.060\n",
    "epochs = epochs.shift_time(tshift=tshift)"
   ]
  },
  {
   "cell_type": "code",
   "execution_count": null,
   "metadata": {},
   "outputs": [],
   "source": [
    "# Baseline correct\n",
    "baseline = (0.5, 1)\n",
    "epochs = epochs.apply_baseline(baseline=baseline)"
   ]
  },
  {
   "cell_type": "code",
   "execution_count": null,
   "metadata": {},
   "outputs": [],
   "source": [
    "df.copy()[(df['direction'].shift() == 0) & (df['direction'] != 0)]; # pd.read_csv(behaviour_file)"
   ]
  },
  {
   "cell_type": "code",
   "execution_count": null,
   "metadata": {},
   "outputs": [],
   "source": [
    "metadata = df.copy()[(df['direction'].shift() == 0) & (df['direction'] != 0)]#.iloc[:-1] # pd.read_csv(behaviour_file)\n",
    "metadata['subject'] = subject\n",
    "metadata['session'] = session\n",
    "metadata['direction'].astype(str)\n",
    "\n",
    "metadata.tail()"
   ]
  },
  {
   "cell_type": "code",
   "execution_count": null,
   "metadata": {},
   "outputs": [],
   "source": [
    "# Add metadata to epochs\n",
    "epochs.metadata = metadata"
   ]
  },
  {
   "cell_type": "code",
   "execution_count": null,
   "metadata": {},
   "outputs": [],
   "source": [
    "epochs['direction == 90']"
   ]
  },
  {
   "cell_type": "code",
   "execution_count": null,
   "metadata": {},
   "outputs": [],
   "source": [
    "import matplotlib.pyplot as plt"
   ]
  },
  {
   "cell_type": "code",
   "execution_count": null,
   "metadata": {},
   "outputs": [],
   "source": [
    "f = epochs['direction == 90'].average().plot();\n",
    "if RW:\n",
    "    outfile = Path(FIGDIR / subject / session / f\"epochs_90.png\")\n",
    "    outfile.parent.mkdir(parents=True, exist_ok=True)\n",
    "    f.savefig(outfile)"
   ]
  },
  {
   "cell_type": "code",
   "execution_count": null,
   "metadata": {},
   "outputs": [],
   "source": [
    "f = epochs['direction == 180'].average().plot();\n",
    "if RW:\n",
    "    outfile = Path(FIGDIR / subject / session / f\"epochs_180.png\")\n",
    "    outfile.parent.mkdir(parents=True, exist_ok=True)\n",
    "    f.savefig(outfile)"
   ]
  },
  {
   "cell_type": "code",
   "execution_count": null,
   "metadata": {},
   "outputs": [],
   "source": [
    "f = epochs['direction == 270'].average().plot();\n",
    "if RW:\n",
    "    outfile = Path(FIGDIR / subject / session / f\"epochs_270.png\")\n",
    "    outfile.parent.mkdir(parents=True, exist_ok=True)\n",
    "    f.savefig(outfile)"
   ]
  },
  {
   "cell_type": "code",
   "execution_count": null,
   "metadata": {},
   "outputs": [],
   "source": [
    "# from autoreject import AutoReject\n",
    "\n",
    "# # Auto reject epochs\n",
    "# ar = AutoReject(random_state=42, n_jobs=-1)\n",
    "# epochs = ar.fit_transform(epochs)"
   ]
  },
  {
   "cell_type": "markdown",
   "metadata": {},
   "source": [
    "# Save Epochs"
   ]
  },
  {
   "cell_type": "code",
   "execution_count": null,
   "metadata": {},
   "outputs": [],
   "source": [
    "# Save epochs\n",
    "if RW:\n",
    "    outfile = DATADIR / \"scratch\" / subject / session / f\"{session}_epo.fif\"\n",
    "    epochs.save(outfile, overwrite=True)"
   ]
  },
  {
   "cell_type": "code",
   "execution_count": null,
   "metadata": {},
   "outputs": [],
   "source": [
    "evokeds = {}\n",
    "evokeds['right'] = epochs[f'direction == 90'].average()\n",
    "evokeds['feet'] = epochs[f'direction == 180'].average()\n",
    "evokeds['left'] = epochs[f'direction == 270'].average()"
   ]
  },
  {
   "cell_type": "code",
   "execution_count": null,
   "metadata": {},
   "outputs": [],
   "source": [
    "num_evos = len(evokeds)\n",
    "times = [0.5, 1, 1.5, 2, 2.5, 3]\n",
    "avges = [0.025, 0.05, 0.1, 0.1, 0.1, 0.1]\n",
    "fig, axes = plt.subplots(nrows=num_evos, ncols=len(times), figsize=(4*len(times), 4*num_evos)) \n",
    "title = f'{subject}_{session} topos'\n",
    "\n",
    "for i, cond in enumerate(evokeds.keys()):\n",
    "    ax = axes[i,:]\n",
    "    evokeds[cond].plot_topomap(\n",
    "        ch_type='eeg', times=times, average=avges, colorbar=False, axes=ax, show=False\n",
    "    )\n",
    "    ax[0].set_ylabel(cond)\n",
    "\n",
    "\n",
    "fig.suptitle(title, fontsize=28)\n",
    "if RW:\n",
    "    outfile = Path(FIGDIR / subject / session / f\"topology.png\")\n",
    "    outfile.parent.mkdir(parents=True, exist_ok=True)\n",
    "    savefig(outfile)\n",
    "plt.show()\n"
   ]
  },
  {
   "cell_type": "code",
   "execution_count": null,
   "metadata": {},
   "outputs": [],
   "source": [
    "fig, axes = plt.subplots(nrows=2, ncols=2, figsize=(20, 16)) \n",
    "def custom_func(x):\n",
    "    return x.max(axis=1)\n",
    "for i, combine in enumerate(['mean', 'median', 'gfp', custom_func]):\n",
    "    ax = axes[int(i<2), i%2]\n",
    "    lpp_picks = ['C1','Cz','C2']\n",
    "    mne.viz.plot_compare_evokeds(evokeds, picks=lpp_picks, combine=combine, axes=ax, show=False)[0]\n",
    "title = f'{subject}_compare'\n",
    "fig.suptitle = title\n",
    "if RW:\n",
    "    outfile = Path(FIGDIR / subject / session / f\"evoked.png\")\n",
    "    outfile.parent.mkdir(parents=True, exist_ok=True)\n",
    "    savefig(outfile)"
   ]
  },
  {
   "cell_type": "code",
   "execution_count": null,
   "metadata": {},
   "outputs": [],
   "source": [
    "assert False"
   ]
  },
  {
   "cell_type": "markdown",
   "metadata": {},
   "source": [
    "# Unused"
   ]
  },
  {
   "cell_type": "code",
   "execution_count": null,
   "metadata": {},
   "outputs": [],
   "source": [
    "before = df[['markers', 'direction']][(df['direction'].shift() != 0) & (df['direction'] == 0) | (df['direction'].shift() == 0) & (df['direction'] != 0)]\n",
    "# before"
   ]
  },
  {
   "cell_type": "code",
   "execution_count": null,
   "metadata": {},
   "outputs": [],
   "source": [
    "after = df[['markers', 'direction']][(df['direction'].shift() != 0) & (df['direction'] == 0) | (df['direction'].shift() == 0) & (df['direction'] != 0)]\n",
    "# after"
   ]
  },
  {
   "cell_type": "code",
   "execution_count": null,
   "metadata": {},
   "outputs": [],
   "source": [
    "# df.iloc[7500:7510]"
   ]
  },
  {
   "cell_type": "code",
   "execution_count": null,
   "metadata": {},
   "outputs": [],
   "source": [
    "df[(df['markers'].shift() == 0) & (df['markers'] == 4)].index"
   ]
  },
  {
   "cell_type": "code",
   "execution_count": null,
   "metadata": {},
   "outputs": [],
   "source": [
    "df['direction'].unique()"
   ]
  },
  {
   "cell_type": "code",
   "execution_count": null,
   "metadata": {},
   "outputs": [],
   "source": [
    "df[df['direction'].shift() == df['direction']]"
   ]
  },
  {
   "cell_type": "code",
   "execution_count": null,
   "metadata": {},
   "outputs": [],
   "source": [
    "# df.copy()[(df['direction'].shift() == 0) & (df['direction'] != 0)] # pd.read_csv(behaviour_file)"
   ]
  }
 ],
 "metadata": {
  "kernelspec": {
   "display_name": "mne",
   "language": "python",
   "name": "python3"
  },
  "language_info": {
   "codemirror_mode": {
    "name": "ipython",
    "version": 3
   },
   "file_extension": ".py",
   "mimetype": "text/x-python",
   "name": "python",
   "nbconvert_exporter": "python",
   "pygments_lexer": "ipython3",
   "version": "3.10.13"
  }
 },
 "nbformat": 4,
 "nbformat_minor": 2
}
