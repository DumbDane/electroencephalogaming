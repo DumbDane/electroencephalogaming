{
 "cells": [
  {
   "cell_type": "markdown",
   "metadata": {},
   "source": [
    "\n",
    "\n",
    "# Compute and visualize ERDS maps\n",
    "\n",
    "This example calculates and displays ERDS maps of event-related EEG data.\n",
    "ERDS (sometimes also written as ERD/ERS) is short for event-related\n",
    "desynchronization (ERD) and event-related synchronization (ERS)\n",
    ":footcite:`PfurtschellerLopesdaSilva1999`. Conceptually, ERD corresponds to a\n",
    "decrease in power in a specific frequency band relative to a baseline.\n",
    "Similarly, ERS corresponds to an increase in power. An ERDS map is a\n",
    "time/frequency representation of ERD/ERS over a range of frequencies\n",
    ":footcite:`GraimannEtAl2002`. ERDS maps are also known as ERSP (event-related\n",
    "spectral perturbation) :footcite:`Makeig1993`.\n",
    "\n",
    "In this example, we use an EEG BCI data set containing two different motor\n",
    "imagery tasks (imagined hand and feet movement). Our goal is to generate ERDS\n",
    "maps for each of the two tasks.\n",
    "\n",
    "First, we load the data and create epochs of 5s length. The data set contains\n",
    "multiple channels, but we will only consider C3, Cz, and C4. We compute maps\n",
    "containing frequencies ranging from 2 to 35Hz. We map ERD to red color and ERS\n",
    "to blue color, which is customary in many ERDS publications. Finally, we\n",
    "perform cluster-based permutation tests to estimate significant ERDS values\n",
    "(corrected for multiple comparisons within channels).\n"
   ]
  },
  {
   "cell_type": "code",
   "execution_count": null,
   "metadata": {},
   "outputs": [],
   "source": [
    "# Adapted from \n",
    "#   Authors: Clemens Brunner <clemens.brunner@gmail.com>\n",
    "#   Felix Klotzsche <klotzsche@cbs.mpg.de>\n",
    "#\n",
    "# License: BSD-3-Clause\n",
    "# Copyright the MNE-Python contributors."
   ]
  },
  {
   "cell_type": "markdown",
   "metadata": {},
   "source": [
    "As usual, we import everything we need.\n",
    "\n"
   ]
  },
  {
   "cell_type": "code",
   "execution_count": null,
   "metadata": {},
   "outputs": [],
   "source": [
    "import matplotlib.pyplot as plt\n",
    "import numpy as np\n",
    "import pandas as pd\n",
    "import seaborn as sns\n",
    "from matplotlib.colors import TwoSlopeNorm\n",
    "from glob import glob\n",
    "\n",
    "import mne\n",
    "from mne import find_events\n",
    "from mne.datasets import eegbci\n",
    "from mne.io import concatenate_raws, read_raw_fif\n",
    "from mne.stats import permutation_cluster_1samp_test as pcluster_test"
   ]
  },
  {
   "cell_type": "markdown",
   "metadata": {},
   "source": [
    "First, we load and preprocess the data. We use runs 6, 10, and 14 from\n",
    "subject 1 (these runs contains hand and feet motor imagery).\n",
    "\n"
   ]
  },
  {
   "cell_type": "code",
   "execution_count": null,
   "metadata": {},
   "outputs": [],
   "source": [
    "# fnames = eegbci.load_data(subject=1, runs=(6, 10, 14))\n",
    "# raw = concatenate_raws([read_raw_edf(f, preload=True) for f in fnames])\n",
    "# raw.rename_channels(lambda x: x.strip(\".\"))  # remove dots from channel names\n",
    "# rename descriptions to be more easily interpretable\n",
    "# raw.annotations.rename(dict(T1=\"hands\", T2=\"feet\"))\n",
    "\n",
    "subject = \"chris\"\n",
    "subject = \"laurids\"\n",
    "raw_fnames = glob(f\"data/scratch/{subject}/*[2345]*/*raw.fif\")\n",
    "raw = concatenate_raws([read_raw_fif(f, preload=True) for f in raw_fnames])"
   ]
  },
  {
   "cell_type": "code",
   "execution_count": null,
   "metadata": {},
   "outputs": [],
   "source": [
    "raw.info['sfreq']"
   ]
  },
  {
   "cell_type": "markdown",
   "metadata": {},
   "source": [
    "Now we can create 5-second epochs around events of interest.\n",
    "\n"
   ]
  },
  {
   "cell_type": "code",
   "execution_count": null,
   "metadata": {},
   "outputs": [],
   "source": [
    "tmin, tmax = -1, 4\n",
    "events = find_events(raw, stim_channel='trigger', verbose=True)\n",
    "classes = [90, 180, 270]\n",
    "event_ids = {'90':\"right\", '180':\"feet\", '270':'left'} # map event IDs to tasks\n",
    "annots = mne.annotations_from_events(events, raw.info['sfreq'], classes)\n",
    "raw.set_annotations(annots)\n",
    "raw.annotations.rename(event_ids)\n",
    "# raw.set_eeg_reference(ref_channels=[\"Cz\"])\n",
    "# raw.apply_proj()\n",
    "\n",
    "epochs = mne.Epochs(\n",
    "    raw,\n",
    "    events,\n",
    "    event_id=[90, 180, 270],\n",
    "    tmin=tmin - 0.5,\n",
    "    tmax=tmax + 0.5,\n",
    "    picks=(\"C3\", \"Cz\", \"C4\"),\n",
    "    baseline=None,\n",
    "    preload=True,\n",
    ")"
   ]
  },
  {
   "cell_type": "code",
   "execution_count": null,
   "metadata": {},
   "outputs": [],
   "source": [
    "raw.annotations"
   ]
  },
  {
   "cell_type": "markdown",
   "metadata": {},
   "source": [
    "\n",
    "Here we set suitable values for computing ERDS maps. Note especially the\n",
    "``cnorm`` variable, which sets up an *asymmetric* colormap where the middle\n",
    "color is mapped to zero, even though zero is not the middle *value* of the\n",
    "colormap range. This does two things: it ensures that zero values will be\n",
    "plotted in white (given that below we select the ``RdBu`` colormap), and it\n",
    "makes synchronization and desynchronization look equally prominent in the\n",
    "plots, even though their extreme values are of different magnitudes.\n",
    "\n"
   ]
  },
  {
   "cell_type": "code",
   "execution_count": null,
   "metadata": {},
   "outputs": [],
   "source": [
    "freqs = np.arange(2, 35)  # frequencies from 2-35Hz\n",
    "vmin, vmax = -1, 1.5  # set min and max ERDS values in plot\n",
    "baseline = (-1, 0)  # baseline interval (in s)\n",
    "cnorm = TwoSlopeNorm(vmin=vmin, vcenter=0, vmax=vmax)  # min, center & max ERDS\n",
    "\n",
    "kwargs = dict(\n",
    "    n_permutations=100, step_down_p=0.05, seed=1, buffer_size=None, out_type=\"mask\"\n",
    ")  # for cluster test"
   ]
  },
  {
   "cell_type": "markdown",
   "metadata": {},
   "source": [
    "Finally, we perform time/frequency decomposition over all epochs.\n",
    "\n"
   ]
  },
  {
   "cell_type": "code",
   "execution_count": null,
   "metadata": {},
   "outputs": [],
   "source": [
    "tfr = epochs.compute_tfr(\n",
    "    method=\"multitaper\",\n",
    "    freqs=freqs,\n",
    "    n_cycles=freqs,\n",
    "    use_fft=True,\n",
    "    return_itc=False,\n",
    "    average=False,\n",
    "    decim=2,\n",
    ")\n",
    "tfr.crop(tmin, tmax).apply_baseline(baseline, mode=\"percent\")\n",
    "\n",
    "for event in event_ids:\n",
    "    # select desired epochs for visualization\n",
    "    tfr_ev = tfr[event]\n",
    "    fig, axes = plt.subplots(\n",
    "        1, 4, figsize=(12, 4), gridspec_kw={\"width_ratios\": [10, 10, 10, 1]}\n",
    "    )\n",
    "    for ch, ax in enumerate(axes[:-1]):  # for each channel\n",
    "        # positive clusters\n",
    "        _, c1, p1, _ = pcluster_test(tfr_ev.data[:, ch], tail=1, **kwargs)\n",
    "        # negative clusters\n",
    "        _, c2, p2, _ = pcluster_test(tfr_ev.data[:, ch], tail=-1, **kwargs)\n",
    "\n",
    "        # note that we keep clusters with p <= 0.05 from the combined clusters\n",
    "        # of two independent tests; in this example, we do not correct for\n",
    "        # these two comparisons\n",
    "        c = np.stack(c1 + c2, axis=2)  # combined clusters\n",
    "        p = np.concatenate((p1, p2))  # combined p-values\n",
    "        mask = c[..., p <= 0.05].any(axis=-1)\n",
    "\n",
    "        # plot TFR (ERDS map with masking)\n",
    "        tfr_ev.average().plot(\n",
    "            [ch],\n",
    "            cmap=\"RdBu\",\n",
    "            cnorm=cnorm,\n",
    "            axes=ax,\n",
    "            colorbar=False,\n",
    "            show=False,\n",
    "            mask=mask,\n",
    "            mask_style=\"mask\",\n",
    "        )\n",
    "\n",
    "        ax.set_title(epochs.ch_names[ch], fontsize=10)\n",
    "        ax.axvline(0, linewidth=1, color=\"black\", linestyle=\":\")  # event\n",
    "        if ch != 0:\n",
    "            ax.set_ylabel(\"\")\n",
    "            ax.set_yticklabels(\"\")\n",
    "    fig.colorbar(axes[0].images[-1], cax=axes[-1]).ax.set_yscale(\"linear\")\n",
    "    fig.suptitle(f\"ERDS ({event})\")\n",
    "    plt.show()"
   ]
  },
  {
   "cell_type": "markdown",
   "metadata": {},
   "source": [
    "Similar to `~mne.Epochs` objects, we can also export data from\n",
    "`~mne.time_frequency.EpochsTFR` and `~mne.time_frequency.AverageTFR` objects\n",
    "to a :class:`Pandas DataFrame <pandas.DataFrame>`. By default, the `time`\n",
    "column of the exported data frame is in milliseconds. Here, to be consistent\n",
    "with the time-frequency plots, we want to keep it in seconds, which we can\n",
    "achieve by setting ``time_format=None``:\n",
    "\n"
   ]
  },
  {
   "cell_type": "code",
   "execution_count": null,
   "metadata": {},
   "outputs": [],
   "source": [
    "df = tfr.to_data_frame(time_format=None)\n",
    "df"
   ]
  },
  {
   "cell_type": "markdown",
   "metadata": {},
   "source": [
    "This allows us to use additional plotting functions like\n",
    ":func:`seaborn.lineplot` to plot confidence bands:\n",
    "\n"
   ]
  },
  {
   "cell_type": "code",
   "execution_count": null,
   "metadata": {},
   "outputs": [],
   "source": [
    "df = tfr.to_data_frame(time_format=None, long_format=True)\n",
    "\n",
    "# Map to frequency bands:\n",
    "freq_bounds = {\"_\": 0, \"delta\": 3, \"theta\": 7, \"alpha\": 13, \"beta\": 35, \"gamma\": 140}\n",
    "df[\"band\"] = pd.cut(\n",
    "    df[\"freq\"], list(freq_bounds.values()), labels=list(freq_bounds)[1:]\n",
    ")\n",
    "\n",
    "# Filter to retain only relevant frequency bands:\n",
    "freq_bands_of_interest = [\"delta\", \"theta\", \"alpha\", \"beta\"]\n",
    "df = df[df.band.isin(freq_bands_of_interest)]\n",
    "df[\"band\"] = df[\"band\"].cat.remove_unused_categories()\n",
    "\n",
    "# Order channels for plotting:\n",
    "df[\"channel\"] = df[\"channel\"].cat.reorder_categories((\"C3\", \"Cz\", \"C4\"), ordered=True)\n",
    "\n",
    "g = sns.FacetGrid(df, row=\"band\", col=\"channel\", margin_titles=True)\n",
    "g.map(sns.lineplot, \"time\", \"value\", \"condition\", n_boot=10)\n",
    "axline_kw = dict(color=\"black\", linestyle=\"dashed\", linewidth=0.5, alpha=0.5)\n",
    "g.map(plt.axhline, y=0, **axline_kw)\n",
    "g.map(plt.axvline, x=0, **axline_kw)\n",
    "g.set(ylim=(None, 1.5))\n",
    "g.set_axis_labels(\"Time (s)\", \"ERDS\")\n",
    "g.set_titles(col_template=\"{col_name}\", row_template=\"{row_name}\")\n",
    "g.add_legend(ncol=2, loc=\"lower center\")\n",
    "g.fig.subplots_adjust(left=0.1, right=0.9, top=0.9, bottom=0.08)"
   ]
  },
  {
   "cell_type": "markdown",
   "metadata": {},
   "source": [
    "Having the data as a DataFrame also facilitates subsetting,\n",
    "grouping, and other transforms.\n",
    "Here, we use seaborn to plot the average ERDS in the motor imagery interval\n",
    "as a function of frequency band and imagery condition:\n",
    "\n"
   ]
  },
  {
   "cell_type": "code",
   "execution_count": null,
   "metadata": {},
   "outputs": [],
   "source": [
    "df_mean = (\n",
    "    df.query(\"time > 1\")\n",
    "    .groupby([\"condition\", \"epoch\", \"band\", \"channel\"], observed=False)[[\"value\"]]\n",
    "    .mean()\n",
    "    .reset_index()\n",
    ")\n",
    "\n",
    "g = sns.FacetGrid(\n",
    "    df_mean, col=\"condition\", col_order=[\"right\", \"feet\", \"left\"], margin_titles=True\n",
    ")\n",
    "g = g.map(\n",
    "    sns.violinplot,\n",
    "    \"channel\",\n",
    "    \"value\",\n",
    "    \"band\",\n",
    "    cut=0,\n",
    "    palette=\"deep\",\n",
    "    order=[\"C3\", \"Cz\", \"C4\"],\n",
    "    hue_order=freq_bands_of_interest,\n",
    "    linewidth=0.5,\n",
    ").add_legend(ncol=4, loc=\"lower center\")\n",
    "\n",
    "g.map(plt.axhline, **axline_kw)\n",
    "g.set_axis_labels(\"\", \"ERDS\")\n",
    "g.set_titles(col_template=\"{col_name}\", row_template=\"{row_name}\")\n",
    "g.fig.subplots_adjust(left=0.1, right=0.9, top=0.9, bottom=0.3)"
   ]
  },
  {
   "cell_type": "markdown",
   "metadata": {},
   "source": [
    "## References\n",
    ".. footbibliography::\n",
    "\n"
   ]
  }
 ],
 "metadata": {
  "kernelspec": {
   "display_name": "Python 3",
   "language": "python",
   "name": "python3"
  },
  "language_info": {
   "codemirror_mode": {
    "name": "ipython",
    "version": 3
   },
   "file_extension": ".py",
   "mimetype": "text/x-python",
   "name": "python",
   "nbconvert_exporter": "python",
   "pygments_lexer": "ipython3",
   "version": "3.10.13"
  }
 },
 "nbformat": 4,
 "nbformat_minor": 0
}
