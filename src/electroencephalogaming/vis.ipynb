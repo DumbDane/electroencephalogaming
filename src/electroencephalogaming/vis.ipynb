{
 "cells": [
  {
   "cell_type": "code",
   "execution_count": null,
   "metadata": {},
   "outputs": [],
   "source": [
    "\n",
    "# Code from BrAInlab\n",
    "\n",
    "import mne\n",
    "from pathlib import Path\n",
    "import matplotlib as plt\n",
    "import pandas as pd\n",
    "from importlib.resources import files"
   ]
  },
  {
   "cell_type": "code",
   "execution_count": null,
   "metadata": {},
   "outputs": [],
   "source": [
    "# datafile = Path('/Volumes/EEGTRANSFER/melodies-recon/EEG/day1/ses-flute/eeg/sub-aaa_ses-flute_task-Default_run-001_eeg.xdf')\n",
    "path = files('electroencephalogaming') / 'data' / 'raw' / 'laurids' / 's5.pq'\n",
    "df = pd.read_parquet(path)\n",
    "df"
   ]
  },
  {
   "cell_type": "code",
   "execution_count": null,
   "metadata": {},
   "outputs": [],
   "source": [
    "df.pop('markers')\n",
    "df.pop('direction')\n",
    "ts = df.pop('Unnamed: 0')\n",
    "info = mne.create_info(ch_names=df.columns.tolist(), sfreq=500)\n",
    "# data = mne.io.RawArray(df.dropna().multiply(1e-9).T, info)\n",
    "data = mne.io.RawArray(df.dropna().T, info)"
   ]
  },
  {
   "cell_type": "code",
   "execution_count": null,
   "metadata": {},
   "outputs": [],
   "source": [
    "# path = Path('eeg_data/210.csv')\n",
    "\n",
    "\n",
    "# path = Path('eeg_data/20240328164103_notch_laurids_Cross.edf')\n",
    "# path = Path('eeg_data/20240328164103_notch_laurids_Cross.edf')\n",
    "# data = mne.io.read_raw_edf(path)\n",
    "data.drop_channels(['X', 'Y', 'Z'], on_missing=\"ignore\")\n",
    "raw_data = data.get_data()\n",
    "info = data.info\n",
    "channels = data.ch_names\n",
    "streams=data\n",
    "\n",
    "\n",
    "print(path)\n",
    "print(raw_data)\n",
    "print(info)\n",
    "print(channels)\n"
   ]
  },
  {
   "cell_type": "code",
   "execution_count": null,
   "metadata": {},
   "outputs": [],
   "source": [
    "sfreq = info[\"sfreq\"]\n",
    "sfreq"
   ]
  },
  {
   "cell_type": "code",
   "execution_count": null,
   "metadata": {},
   "outputs": [],
   "source": [
    "X = raw_data\n",
    "\n",
    "# chs = chs[:16]\n",
    "\n",
    "info = mne.create_info(channels, sfreq, ch_types='eeg')\n",
    "raw = mne.io.RawArray(X, info)\n",
    "\n",
    "#raw = raw.set_eeg_reference(ref_channels=['1', '2'])\n"
   ]
  },
  {
   "cell_type": "code",
   "execution_count": null,
   "metadata": {},
   "outputs": [],
   "source": [
    "raw.get_data().mean()"
   ]
  },
  {
   "cell_type": "code",
   "execution_count": null,
   "metadata": {},
   "outputs": [],
   "source": [
    "raw.get_data().mean(axis=1)"
   ]
  },
  {
   "cell_type": "code",
   "execution_count": null,
   "metadata": {},
   "outputs": [],
   "source": [
    "raw_notch = raw.copy().notch_filter(freqs=[50], verbose=False)\n",
    "for title, data in zip([\"Un\", \"Notch \"], [raw, raw_notch]):\n",
    "    fig = data.compute_psd(fmin=0, fmax=60).plot(average=True, picks=\"data\", exclude=\"bads\")\n",
    "    \n",
    "# print(fig.get_data().shape)\n",
    "fig\n"
   ]
  },
  {
   "cell_type": "code",
   "execution_count": null,
   "metadata": {},
   "outputs": [],
   "source": [
    "raw_notch.copy().filter(1,60, verbose=False).plot(n_channels=len(channels), scalings='auto', title='Auto-scaled Data from notch filter arrays')"
   ]
  },
  {
   "cell_type": "code",
   "execution_count": null,
   "metadata": {},
   "outputs": [],
   "source": [
    "raw.copy().filter(1,60).plot(n_channels=len(channels), scalings='auto', title='Auto-scaled Data from [1;60] filtered arrays')"
   ]
  },
  {
   "cell_type": "code",
   "execution_count": null,
   "metadata": {},
   "outputs": [],
   "source": [
    "raw.copy().plot(n_channels=len(channels), scalings='auto', title='Auto-scaled Data from arrays')"
   ]
  },
  {
   "cell_type": "code",
   "execution_count": null,
   "metadata": {},
   "outputs": [],
   "source": []
  }
 ],
 "metadata": {
  "kernelspec": {
   "display_name": "deepuv",
   "language": "python",
   "name": "python3"
  },
  "language_info": {
   "codemirror_mode": {
    "name": "ipython",
    "version": 3
   },
   "file_extension": ".py",
   "mimetype": "text/x-python",
   "name": "python",
   "nbconvert_exporter": "python",
   "pygments_lexer": "ipython3",
   "version": "3.10.13"
  }
 },
 "nbformat": 4,
 "nbformat_minor": 2
}
