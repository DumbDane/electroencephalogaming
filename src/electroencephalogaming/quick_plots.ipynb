{
 "cells": [
  {
   "cell_type": "code",
   "execution_count": null,
   "metadata": {},
   "outputs": [],
   "source": [
    "import seaborn as sns\n",
    "import matplotlib.pyplot as plt\n",
    "import pandas as pd"
   ]
  },
  {
   "cell_type": "code",
   "execution_count": null,
   "metadata": {},
   "outputs": [],
   "source": [
    "data_laurids = [0.1, 0.23, 0.17, 0.18, 0.27]\n",
    "data_chris = [0.25, 0.33, 0.58]"
   ]
  },
  {
   "cell_type": "code",
   "execution_count": null,
   "metadata": {},
   "outputs": [],
   "source": [
    "sns.set_theme(\"paper\", \"whitegrid\")"
   ]
  },
  {
   "cell_type": "markdown",
   "metadata": {},
   "source": [
    "The baseline values are calculated based on the Müller-Putz et al Paper from 2008."
   ]
  },
  {
   "cell_type": "code",
   "execution_count": null,
   "metadata": {},
   "outputs": [],
   "source": [
    "baseline_values = [0.475, 0.433, 0.415, 0.404, 0.397]"
   ]
  },
  {
   "cell_type": "markdown",
   "metadata": {},
   "source": [
    "Intersession evaluation"
   ]
  },
  {
   "cell_type": "code",
   "execution_count": null,
   "metadata": {},
   "outputs": [],
   "source": [
    "f, ax = plt.subplots(figsize = (15, 8))\n",
    "sns.lineplot(x = [i for i in range(1, len(data_laurids)+1)], y = data_laurids, ax= ax, marker=\"o\", label=\"Subject 1\", color=\"#643b9f\")\n",
    "sns.lineplot(x = [i for i in range(1, len(data_chris)+1)], y= data_chris, ax=ax, marker=\"o\", label=\"Subject 2\", color=\"#69b45b\")\n",
    "ax.set_ylim(0, 1)\n",
    "ax.set_ylabel(\"Accuracy [%]\", fontsize= 20)\n",
    "sns.lineplot(x = [i for i in range(1, len(baseline_values)+1)], y= baseline_values, ax=ax, label= \"Chance\", color=\"gray\", linestyle =\"dashed\")\n",
    "ax.set_xlabel(\"Session No.\", fontsize= 20)\n",
    "ax.set_xticks(range(1, len(data_laurids)+1))\n",
    "ax.tick_params(axis='both', which='major', labelsize=18)\n",
    "plt.legend(fontsize= 20)\n",
    "plt.tight_layout()\n",
    "# plt.savefig(\"figs/session_comparison.pdf\")"
   ]
  },
  {
   "cell_type": "markdown",
   "metadata": {},
   "source": [
    "2-Class barplot"
   ]
  },
  {
   "cell_type": "code",
   "execution_count": null,
   "metadata": {},
   "outputs": [],
   "source": [
    "data_laurids = [0.71, 0.76, 0.46]\n",
    "data_chris = [0.36, 0.62, 0.44]\n",
    "df = pd.DataFrame({'Subject 1' : data_laurids, 'Subject 2' : data_chris})\n",
    "df.index = [\"right/feet\", \"feet/left\", \"right/left\"]\n",
    "df.reset_index(inplace=True, names=\"condition\")\n",
    "df = df.melt(id_vars=\"condition\", var_name=\"Subject\", value_name=\"Accuracy\")"
   ]
  },
  {
   "cell_type": "code",
   "execution_count": null,
   "metadata": {},
   "outputs": [],
   "source": [
    "baseline_values_l = [0.561] * len(data_laurids)\n",
    "baseline_values_c = [0.585] * len(data_chris)\n",
    "color = {\"Subject 1\" : \"#643b9f\", \"Subject 2\" : \"#69b45b\"}"
   ]
  },
  {
   "cell_type": "code",
   "execution_count": null,
   "metadata": {},
   "outputs": [],
   "source": [
    "\n",
    "f, ax = plt.subplots(figsize = (15, 8))\n",
    "b = sns.barplot(data=df, x=\"condition\", y=\"Accuracy\", hue=\"Subject\", palette=color, ax=ax, legend=\"full\")\n",
    "ax.set_ylim(0, 1)\n",
    "ax.set_ylabel(\"Accuracy [%]\", fontsize= 20)\n",
    "ax.set_xlabel(\"Condition\", fontsize= 20)\n",
    "line1 = ax.hlines(baseline_values_l, color=\"#09075c\", linestyles=\"dashed\", dashes=(0, (5, 2)), xmin=-0.5, xmax= 2.5, label=\"Chance Subject 1\")\n",
    "line2 = ax.hlines(baseline_values_c, color=\"#09075c\", linestyles=\"dashdot\", dashes = (0, (7, 12, 3, 12)), xmin=-0.5, xmax= 2.5, label=\"Chance Subject 2\")\n",
    "ax.tick_params(axis='both', which='major', labelsize=18)\n",
    "plt.legend(fontsize= 20)\n",
    "plt.tight_layout()\n",
    "# plt.savefig(\"figs/2c_grpbp.pdf\")"
   ]
  },
  {
   "cell_type": "code",
   "execution_count": null,
   "metadata": {},
   "outputs": [],
   "source": []
  }
 ],
 "metadata": {
  "kernelspec": {
   "display_name": "electroencephalogaming-EhI2ZcvP-py3.11",
   "language": "python",
   "name": "python3"
  },
  "language_info": {
   "codemirror_mode": {
    "name": "ipython",
    "version": 3
   },
   "file_extension": ".py",
   "mimetype": "text/x-python",
   "name": "python",
   "nbconvert_exporter": "python",
   "pygments_lexer": "ipython3",
   "version": "3.10.13"
  }
 },
 "nbformat": 4,
 "nbformat_minor": 2
}
