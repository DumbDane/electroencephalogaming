{
 "cells": [
  {
   "cell_type": "code",
   "execution_count": null,
   "metadata": {},
   "outputs": [],
   "source": [
    "\n",
    "# Adapted from: Pedro L. C. Rodrigues, Sylvain Chevallier\n",
    "#\n",
    "# https://github.com/plcrodrigues/Workshop-MOABB-BCI-Graz-2019\n",
    "\n",
    "import mne\n",
    "import numpy as np\n",
    "from pyriemann.classification import MDM\n",
    "from pyriemann.estimation import Covariances\n",
    "from scipy.io import loadmat, savemat\n",
    "from sklearn.pipeline import make_pipeline\n",
    "\n",
    "from moabb.datasets import download as dl\n",
    "from moabb.datasets.base import BaseDataset\n",
    "from moabb.evaluations import WithinSessionEvaluation\n",
    "from moabb.paradigms import MotorImagery"
   ]
  },
  {
   "cell_type": "code",
   "execution_count": null,
   "metadata": {},
   "outputs": [],
   "source": [
    "\n",
    "class ExampleDataset(BaseDataset):\n",
    "    \"\"\"Dataset used to exemplify the creation of a dataset class in MOABB.\n",
    "\n",
    "    The data samples have been simulated and has no physiological\n",
    "    meaning whatsoever.\n",
    "    \"\"\"\n",
    "\n",
    "    def __init__(self):\n",
    "        super().__init__(\n",
    "            subjects=[1],\n",
    "            sessions_per_subject=1,\n",
    "            events={\"left_hand\": 90, \"right_hand\": 180, \"feet\" : 270},\n",
    "            code=\"ExampleDataset\",\n",
    "            interval=[0, 0.75],\n",
    "            paradigm=\"imagery\",\n",
    "            doi=\"\",\n",
    "        )\n",
    "\n",
    "    def _get_single_subject_data(self, subject):\n",
    "        \"\"\"Return data for a single subject.\"\"\"\n",
    "        file_path_list = self.data_path(subject)\n",
    "\n",
    "        data = loadmat(file_path_list[0])\n",
    "        x = data[\"x\"]\n",
    "        fs = data[\"fs\"]\n",
    "        ch_names = [\"ch\" + str(i) for i in range(8)] + [\"stim\"]\n",
    "        ch_types = [\"eeg\" for i in range(8)] + [\"stim\"]\n",
    "        info = mne.create_info(ch_names, fs, ch_types)\n",
    "        raw = mne.io.RawArray(x, info)\n",
    "\n",
    "        sessions = {}\n",
    "        sessions[\"0\"] = {}\n",
    "        sessions[\"0\"][\"0\"] = raw\n",
    "        return sessions\n",
    "\n",
    "    def data_path(\n",
    "        self, subject, path=None, force_update=False, update_path=None, verbose=None\n",
    "    ):\n",
    "        \"\"\"Download the data from one subject.\"\"\"\n",
    "        if subject not in self.subject_list:\n",
    "            raise (ValueError(\"Invalid subject number\"))\n",
    "\n",
    "        url = \"{:s}subject_0{:d}.mat\".format(ExampleDataset_URL, subject)\n",
    "        path = dl.data_dl(url, \"ExampleDataset\")\n",
    "        return [path]  # it has to return a list"
   ]
  }
 ],
 "metadata": {
  "kernelspec": {
   "display_name": "eeg",
   "language": "python",
   "name": "python3"
  },
  "language_info": {
   "codemirror_mode": {
    "name": "ipython",
    "version": 3
   },
   "file_extension": ".py",
   "mimetype": "text/x-python",
   "name": "python",
   "nbconvert_exporter": "python",
   "pygments_lexer": "ipython3",
   "version": "3.10.13"
  }
 },
 "nbformat": 4,
 "nbformat_minor": 2
}
